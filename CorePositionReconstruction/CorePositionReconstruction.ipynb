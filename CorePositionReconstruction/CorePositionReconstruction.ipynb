{
 "cells": [
  {
   "cell_type": "code",
   "execution_count": 1,
   "id": "eb1bb352-09d1-407c-96b1-8473fb7296cd",
   "metadata": {},
   "outputs": [],
   "source": [
    "import uproot\n",
    "import numpy as np\n",
    "import matplotlib.pyplot as plt\n",
    "import scipy.ndimage\n",
    "import sys\n",
    "\n",
    "sys.path.append('../')\n",
    "from carpet_reconstruction import GetCarpetSignal, VEM, VEM2rp, find_smoothest_max, neighbors, fit_coeffs, get_xy_fits, num_sort, get_annealing_xy\n",
    "\n",
    "from matplotlib.backends.backend_pdf import PdfPages\n",
    "from skimage.feature import peak_local_max"
   ]
  },
  {
   "cell_type": "code",
   "execution_count": 2,
   "id": "b6a9fe30-2fec-4754-9ade-c27fa8d5afa4",
   "metadata": {},
   "outputs": [],
   "source": [
    "plt.rcParams['figure.dpi'] = 400"
   ]
  },
  {
   "cell_type": "code",
   "execution_count": 3,
   "id": "a8d20148-43c0-4c64-89e7-54f315983190",
   "metadata": {},
   "outputs": [],
   "source": [
    "filename = '../Geant4Model/build/Output/output_test.root'\n",
    "file = uproot.open(filename)\n",
    "\n",
    "names = np.array(file.keys())\n",
    "times = names[:len(names) // 3]\n",
    "cover_hists = names[len(names) // 3::2]"
   ]
  },
  {
   "cell_type": "code",
   "execution_count": 4,
   "id": "a9567019-10b0-41fe-abc9-60deb1e73bc2",
   "metadata": {
    "scrolled": true
   },
   "outputs": [],
   "source": [
    "digit_pattern = \"-?\\d+\\.?\\d*\""
   ]
  },
  {
   "cell_type": "code",
   "execution_count": 5,
   "id": "e7488786-c189-4ab8-92ec-a4b1609ce224",
   "metadata": {},
   "outputs": [],
   "source": [
    "cover_signals = np.zeros((len(cover_hists), 20, 20))\n",
    "\n",
    "for i, hist in enumerate(cover_hists):\n",
    "    cov_hist = np.copy(np.flip(file[hist].values().T, 0))\n",
    "    \n",
    "    cover_signals[i] = GetCarpetSignal(cov_hist)"
   ]
  },
  {
   "cell_type": "markdown",
   "id": "a8035d9e-e541-43d8-8382-c35ace4a9230",
   "metadata": {},
   "source": [
    "# МНК"
   ]
  },
  {
   "cell_type": "code",
   "execution_count": 6,
   "id": "5ebc45f4-be21-4719-b9d9-711c3d9bbf51",
   "metadata": {},
   "outputs": [],
   "source": [
    "pdf = PdfPages(\"100_Showers_intersection_reconstruction.pdf\")\n",
    "\n",
    "for signal in cover_signals:\n",
    "\n",
    "    sinal_copy = np.copy(signal)\n",
    "\n",
    "    sig = VEM(sinal_copy)\n",
    "\n",
    "    plt.imshow(signal, cmap='turbo')\n",
    "\n",
    "    row0, col0 = get_xy_fits(sig)\n",
    "\n",
    "    plt.plot(col0, row0, 'mo')\n",
    "\n",
    "    pdf.savefig()\n",
    "    plt.close('all')\n",
    "\n",
    "pdf.close()"
   ]
  },
  {
   "cell_type": "markdown",
   "id": "f00577a9-7350-4c54-b3a6-f2bae94452db",
   "metadata": {},
   "source": [
    "# Поиск локального максимума"
   ]
  },
  {
   "cell_type": "code",
   "execution_count": null,
   "id": "6490b977-f5e2-4e16-b74a-76f265770bec",
   "metadata": {},
   "outputs": [],
   "source": [
    "coordinates = peak_local_max(cover_signals[0], exclude_border=False, threshold_rel=0.1)\n",
    "\n",
    "print(find_smoothest_max(cover_signals[0], coordinates))\n",
    "\n",
    "plt.imshow(cover_signals[0])\n",
    "plt.plot(coordinates[:, 1], coordinates[:, 0], 'r.')\n",
    "\n",
    "plt.grid(False)"
   ]
  },
  {
   "cell_type": "code",
   "execution_count": null,
   "id": "50165722-e3fb-49dd-a25a-5de82028c048",
   "metadata": {},
   "outputs": [],
   "source": [
    "pdf = PdfPages(\"100_Showers_reconstruction_local_max_with_error.pdf\")\n",
    "\n",
    "# Данный алгоритм осуществляет поиск локального максимума в откликах центрального \"Ковра\"\n",
    "\n",
    "for signal in cover_signals:\n",
    "\n",
    "    sinal_copy = np.copy(signal)\n",
    "\n",
    "    ind_x = np.random.randint(0, 20)\n",
    "    ind_y = np.random.randint(0, 20)\n",
    "\n",
    "    max_sig = np.max(sinal_copy)\n",
    "\n",
    "    if max_sig < 100:\n",
    "        sinal_copy[ind_x][ind_y] += 5*max_sig\n",
    "    else:\n",
    "        sinal_copy[ind_x][ind_y] += 500\n",
    "\n",
    "    sig = VEM(sinal_copy)\n",
    "    \n",
    "    plt.imshow(sig, cmap = 'turbo')\n",
    "    plt.grid(False)\n",
    "    \n",
    "    plt.xticks(ticks=[])\n",
    "    plt.yticks(ticks=[])\n",
    "    \n",
    "    for i in range(sinal_copy.shape[0]):\n",
    "        for j in range(sinal_copy.shape[1]):\n",
    "            #plt.text(j, i, round(sig[i, j]), ha=\"center\", va=\"center\", color=\"w\", fontsize=5)\n",
    "            if ((i == ind_x) & (j == ind_y)):\n",
    "                plt.text(j, i, round(sig[i, j]), ha=\"center\", va=\"center\", color=\"r\", fontsize=10)\n",
    "            else:\n",
    "                plt.text(j, i, round(sig[i, j]), ha=\"center\", va=\"center\", color=\"w\", fontsize=5)\n",
    "    \n",
    "    coordinates = peak_local_max(sig, exclude_border=False, threshold_rel=0.1)\n",
    "    xy = find_smoothest_max(sig, coordinates)\n",
    "    \n",
    "    plt.axvline(x=xy[1], linewidth=1, color='r')\n",
    "    plt.axhline(y=xy[0], linewidth=1, color='r')\n",
    "\n",
    "    pdf.savefig()\n",
    "    plt.close()\n",
    "\n",
    "pdf.close()"
   ]
  },
  {
   "cell_type": "markdown",
   "id": "92c30e0b-1c95-4507-ab31-bd581e69b444",
   "metadata": {},
   "source": [
    "# Signal upscale"
   ]
  },
  {
   "cell_type": "code",
   "execution_count": null,
   "id": "5ee610d7-bab3-4660-9f66-873f3ef37555",
   "metadata": {},
   "outputs": [],
   "source": [
    "pdf = PdfPages(\"100_Showers_reconsctruction_total_upscale.pdf\")\n",
    "\n",
    "# Данный алгоритм осуществляет поиск локального максимума в откликах центрального \"Ковра\". Предварительно сигнал масштабируется кубической интерполяцией\n",
    "\n",
    "for signal in cover_signals:\n",
    "\n",
    "    sinal_copy = np.copy(signal)\n",
    "\n",
    "    sig = VEM(sinal_copy)\n",
    "\n",
    "    fig, axs = plt.subplots(1, 2)\n",
    "    \n",
    "    axs[0].imshow(sig, cmap='turbo')\n",
    "    axs[0].grid(False)\n",
    "    \n",
    "    axs[0].set_xticks(ticks=[])\n",
    "    axs[0].set_yticks(ticks=[])\n",
    "    \n",
    "    coordinates = peak_local_max(sig, exclude_border=False, threshold_rel=0.1)\n",
    "    xy = find_smoothest_max(sig, coordinates)\n",
    "    \n",
    "    axs[0].axvline(x=xy[1], linewidth=1, color='r')\n",
    "    axs[0].axhline(y=xy[0], linewidth=1, color='r')\n",
    "\n",
    "    upscale_factor = 71\n",
    "\n",
    "    upsc_sig = scipy.ndimage.zoom(sig, upscale_factor, order=3)\n",
    "\n",
    "    #peak_region = upsc_sig[xy[0]*upscale_factor:(xy[0]+1)*upscale_factor, xy[1]*upscale_factor:(xy[1]+1)*upscale_factor]\n",
    "\n",
    "    axs[1].imshow(upsc_sig, cmap='turbo')\n",
    "    axs[1].grid(False)\n",
    "    \n",
    "    axs[1].set_xticks(ticks=[])\n",
    "    axs[1].set_yticks(ticks=[])\n",
    "    \n",
    "    coordinates_new = peak_local_max(upsc_sig, exclude_border=False, threshold_rel=0.1)\n",
    "    xy_new = find_smoothest_max(upsc_sig, coordinates_new)\n",
    "    \n",
    "    #axs[1].axvline(x=xy[1]*upscale_factor + xy_new[1], linewidth=1, color='r')\n",
    "    #axs[1].axhline(y=xy[0]*upscale_factor + xy_new[0], linewidth=1, color='r')\n",
    "\n",
    "    axs[1].axvline(x = xy_new[1], linewidth=1, color='r')\n",
    "    axs[1].axhline(y = xy_new[0], linewidth=1, color='r')\n",
    "\n",
    "    pdf.savefig()\n",
    "    plt.close('all')\n",
    "\n",
    "pdf.close()"
   ]
  },
  {
   "cell_type": "markdown",
   "id": "19a67136-d53f-4f1e-9806-e275b0743ae7",
   "metadata": {},
   "source": [
    "# Мексиканская шляпа"
   ]
  },
  {
   "cell_type": "code",
   "execution_count": null,
   "id": "869f85f8-b4e0-426e-8a68-0c5e57b5ef78",
   "metadata": {},
   "outputs": [],
   "source": [
    "pdf = PdfPages(\"100_Showers_hat_reconstruction.pdf\")\n",
    "\n",
    "for signal in cover_signals:\n",
    "\n",
    "    sinal_copy = np.copy(signal)\n",
    "\n",
    "    sig = VEM(sinal_copy)\n",
    "\n",
    "    plt.imshow(signal, cmap='turbo')\n",
    "\n",
    "    y0, x0 = get_annealing_xy(sig)\n",
    "\n",
    "    plt.plot(x0, y0, 'mo')\n",
    "\n",
    "    pdf.savefig()\n",
    "    plt.close('all')\n",
    "\n",
    "pdf.close()"
   ]
  },
  {
   "cell_type": "code",
   "execution_count": null,
   "id": "211d0952-70b0-454e-9dbf-5a2ce904dc3d",
   "metadata": {},
   "outputs": [],
   "source": []
  },
  {
   "cell_type": "code",
   "execution_count": null,
   "id": "ce8a9021-812c-4f35-a2da-9f26c2bdf6b1",
   "metadata": {
    "jupyter": {
     "source_hidden": true
    }
   },
   "outputs": [],
   "source": [
    "# def GetCarpetSignal(hist):\n",
    "#     return hist[hist.shape[0] // 2 - 10:hist.shape[0] // 2 + 10, hist.shape[0] // 2 - 10:hist.shape[0] // 2 + 10]\n",
    "\n",
    "# def VEM(hist):\n",
    "#     filt = (hist < 0.5)\n",
    "#     hist[filt] = 0.001\n",
    "#     hist = (1 + np.log(hist/8)/np.log(1.12)) // 1\n",
    "#     hist[hist < 0] = 0\n",
    "#     #hist[filt] = -1\n",
    "\n",
    "#     return hist\n",
    "\n",
    "# def find_smoothest_max(signal, coords):\n",
    "\n",
    "#     if (len(coords) == 0):\n",
    "#         return np.array([signal.shape[0] // 2, signal.shape[1] // 2])\n",
    "\n",
    "#     decrease = np.zeros(len(coords))\n",
    "    \n",
    "#     for i, coordinate in enumerate(coords):\n",
    "\n",
    "#         amplitude = signal[coordinate[0], coordinate[1]]\n",
    "\n",
    "#         neighbours = neighbors(signal, coordinate[1], coordinate[0])\n",
    "\n",
    "#         decrease[i] = np.sum(neighbours) / (len(neighbours))\n",
    "\n",
    "#     smoothest_max_coord = coords[np.argmax(decrease)]\n",
    "\n",
    "#     return smoothest_max_coord\n",
    "\n",
    "# def neighbors(matrix, rowNumber, colNumber):\n",
    "#     result = []\n",
    "#     for rowAdd in range(-1, 2):\n",
    "#         newRow = rowNumber + rowAdd\n",
    "#         if newRow >= 0 and newRow <= len(matrix)-1:\n",
    "#             for colAdd in range(-1, 2):\n",
    "#                 newCol = colNumber + colAdd\n",
    "#                 if newCol >= 0 and newCol <= len(matrix)-1:\n",
    "#                     if newCol == colNumber and newRow == rowNumber:\n",
    "#                         continue\n",
    "#                     result.append(matrix[newCol][newRow])\n",
    "#     return np.array(result)"
   ]
  }
 ],
 "metadata": {
  "kernelspec": {
   "display_name": "Python 3 (ipykernel)",
   "language": "python",
   "name": "python3"
  },
  "language_info": {
   "codemirror_mode": {
    "name": "ipython",
    "version": 3
   },
   "file_extension": ".py",
   "mimetype": "text/x-python",
   "name": "python",
   "nbconvert_exporter": "python",
   "pygments_lexer": "ipython3",
   "version": "3.11.7"
  }
 },
 "nbformat": 4,
 "nbformat_minor": 5
}
