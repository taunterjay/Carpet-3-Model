{
 "cells": [
  {
   "cell_type": "code",
   "execution_count": 1,
   "id": "3cb1fbe9-a2f0-4eb9-b3f0-53d735eefe2b",
   "metadata": {},
   "outputs": [],
   "source": [
    "import uproot\n",
    "import numpy as np\n",
    "import matplotlib.pyplot as plt\n",
    "import os\n",
    "import re\n",
    "import matplotlib\n",
    "import time\n",
    "import sys\n",
    "\n",
    "sys.path.append('../')\n",
    "from carpet_reconstruction import GetCarpetSignal, VEM, num_sort, hat_func, get_annealing_xy\n",
    "\n",
    "from scipy import optimize\n",
    "from matplotlib.backends.backend_pdf import PdfPages"
   ]
  },
  {
   "cell_type": "code",
   "execution_count": null,
   "id": "ad119e8d-ce69-4073-af39-eb5593333adb",
   "metadata": {},
   "outputs": [],
   "source": [
    "matplotlib.use('pdf')\n",
    "#plt.rcParams['figure.dpi'] = 300"
   ]
  },
  {
   "cell_type": "code",
   "execution_count": 2,
   "id": "fa49a4e6-68c1-4491-bc0a-7faa1f0a6027",
   "metadata": {},
   "outputs": [],
   "source": [
    "filename = '../Geant4Model/build/Output/output_test.root'\n",
    "file = uproot.open(filename)\n",
    "\n",
    "names = np.array(file.keys())\n",
    "times = names[:len(names) // 3]\n",
    "cover_hists = names[len(names) // 3::2]\n",
    "\n",
    "cover_signals = np.zeros((len(cover_hists), 20, 20))\n",
    "    \n",
    "for i, hist in enumerate(cover_hists):\n",
    "    \n",
    "    cov_hist = np.copy(np.flip(file[hist].values().T, 0))\n",
    "    cover_signals[i] = GetCarpetSignal(cov_hist)"
   ]
  },
  {
   "cell_type": "code",
   "execution_count": null,
   "id": "c73bfb28-5500-4178-a187-44e33e3405e3",
   "metadata": {
    "scrolled": true
   },
   "outputs": [],
   "source": [
    "pdf = PdfPages(\"100_Showers_intersection_reconstruction.pdf\")\n",
    "\n",
    "for signal in cover_signals:\n",
    "\n",
    "    sinal_copy = np.copy(signal)\n",
    "\n",
    "    sig = VEM(sinal_copy)\n",
    "\n",
    "    plt.imshow(signal, cmap='turbo')\n",
    "\n",
    "    row0, col0 = get_xy_fits(sig)\n",
    "\n",
    "    plt.plot(col0, row0, 'mo')\n",
    "\n",
    "    pdf.savefig()\n",
    "    plt.close('all')\n",
    "\n",
    "pdf.close()"
   ]
  },
  {
   "cell_type": "code",
   "execution_count": null,
   "id": "fedadd21-ede1-4065-80a6-a495708a2759",
   "metadata": {},
   "outputs": [],
   "source": [
    "path = '../Data/photon_data/'\n",
    "\n",
    "filenames = [path + filename for filename in os.listdir(path)]\n",
    "filenames.sort(key=num_sort)"
   ]
  },
  {
   "cell_type": "code",
   "execution_count": null,
   "id": "f9effb48-c196-4659-8bfa-616cf872b74d",
   "metadata": {},
   "outputs": [],
   "source": [
    "high_energy_files = filenames[18:]"
   ]
  },
  {
   "cell_type": "code",
   "execution_count": null,
   "id": "3346bfb1-6223-4082-a753-df791372d58f",
   "metadata": {},
   "outputs": [],
   "source": [
    "high_energy_files"
   ]
  },
  {
   "cell_type": "code",
   "execution_count": null,
   "id": "7e3431ea-b1fa-4f2f-970b-c9b24668f72e",
   "metadata": {},
   "outputs": [],
   "source": [
    "pdf = PdfPages('photon_data.pdf')\n",
    "\n",
    "for filename in high_energy_files:\n",
    "\n",
    "    print(filename)\n",
    "\n",
    "    file = uproot.open(filename)\n",
    "\n",
    "    names = np.array(file.keys())\n",
    "    times = names[:len(names) // 3]\n",
    "    cover_hists = names[len(names) // 3::2]\n",
    "    \n",
    "    cover_signals = np.zeros((len(cover_hists), 20, 20))\n",
    "    \n",
    "    for i, hist in enumerate(cover_hists):\n",
    "        cov_hist = np.copy(np.flip(file[hist].values().T, 0))\n",
    "        cover_signals[i] = GetCarpetSignal(cov_hist)\n",
    "    \n",
    "    for i, signal in enumerate(cover_signals):\n",
    "        sinal_copy = np.copy(signal)\n",
    "    \n",
    "        sig = VEM(sinal_copy)\n",
    "\n",
    "        row0, col0 = get_xy_fits(sig)\n",
    "        if ((row0 != 9.5) or (col0 != 9.5)):\n",
    "    \n",
    "            plt.imshow(signal, cmap='turbo')\n",
    "        \n",
    "            plt.plot(col0, row0, 'mo')\n",
    "\n",
    "            for j in range(sig.shape[0]):\n",
    "                for k in range(sig.shape[1]):\n",
    "                        text = plt.text(k, j, int(signal[j, k]), ha=\"center\", va=\"center\", color=\"w\", fontsize=5)\n",
    "\n",
    "            EAS_par = cover_hists[i].split('_')\n",
    "\n",
    "            theta, phi, x0, y0 = np.array(EAS_par[1:5]).astype(float)\n",
    "\n",
    "            delta_r = 10*np.tan(np.radians(theta))\n",
    "            delta_x = delta_r*np.sin(np.radians(phi))\n",
    "            delta_y = delta_r*np.cos(np.radians(phi))\n",
    "\n",
    "            true_x = np.round(x0 + delta_x, 3)\n",
    "            true_y = np.round(y0 + delta_y, 3)\n",
    "\n",
    "            plt.title('x = ' + str(true_x) + '; y = ' + str(true_y))\n",
    "            #plt.title(cover_hists[i])\n",
    "        \n",
    "            pdf.savefig()\n",
    "            plt.close('all')\n",
    "\n",
    "pdf.close()"
   ]
  },
  {
   "cell_type": "markdown",
   "id": "7e88b309-3752-48d7-8361-568af1ea8bf6",
   "metadata": {},
   "source": [
    "# Mexican Hat"
   ]
  },
  {
   "cell_type": "code",
   "execution_count": null,
   "id": "47c71ae4-2389-4a0e-9ef3-3958c48feaa1",
   "metadata": {},
   "outputs": [],
   "source": [
    "# Функция \"мексиканская шляпа\" также может использоваться для определения положения оси ШАЛ\n",
    "# Истинному положению соответсвует максимуму этой функции\n",
    "# Для простоты hat_func ниже возвращает значение функции, домноженное на -1, чтобы свести задачу поиска максимума к поиску минимума\n",
    "\n",
    "def hat_func(params : list[float], hist : np.ndarray) -> float:\n",
    "\n",
    "    y, x = params\n",
    "    \n",
    "    n_rows : int = hist.shape[0]\n",
    "    n_cols : int = hist.shape[1]\n",
    "\n",
    "    f : float = 0\n",
    "\n",
    "    for i in range(n_rows):\n",
    "        for j in range(n_cols):\n",
    "            \n",
    "            row : int = i\n",
    "            column : int = j\n",
    "\n",
    "            t_ij_sq : float = (row - y)**2 + (column - x)**2\n",
    "\n",
    "            entry : float = hist[row, column]*(2 - t_ij_sq)*np.exp(-t_ij_sq/2)\n",
    "\n",
    "            f += entry\n",
    "\n",
    "    return -f"
   ]
  },
  {
   "cell_type": "code",
   "execution_count": null,
   "id": "f9abd239-b171-4c7b-8902-d424bb436491",
   "metadata": {},
   "outputs": [],
   "source": [
    "# Эта функция осуществляет поиск минимума функции \"мексиканской шляпы\" методом имитации отжига\n",
    "# Метод стохастический, т.е. случайный. На каждом шаге случайно генерируется х, у\n",
    "# Каждой точке сопоставляется значение \"энергии\" (в нашем случае функции \"шляпы\")\n",
    "# Алгоритм находит точку минимуму \"энергии\"\n",
    "\n",
    "T_max : int = 25 # Диапазон \"температур\" для имитации отжига\n",
    "T_min : float = 0.01 # Диапазон \"температур\" для имитации отжига\n",
    "\n",
    "def get_annealing_xy(hist : np.ndarray) -> list[float]:\n",
    "\n",
    "    n_rows : int = hist.shape[0]\n",
    "    n_cols : int = hist.shape[1]\n",
    "\n",
    "    T : float = T_max\n",
    "    y : float = 9.5\n",
    "    x : float = 9.5\n",
    "    E : float = hat_func([y, x], hist)\n",
    "\n",
    "    for i in range(1, 1_000):\n",
    "        \n",
    "        x_rand : float = np.random.uniform(-0.5, n_cols - 0.5)\n",
    "        y_rand : float = np.random.uniform(-0.5, n_rows - 0.5)\n",
    "        E_rand : float = hat_func([y_rand, x_rand], hist)\n",
    "        deltaE : float = E_rand - E\n",
    "\n",
    "        if deltaE < 0:\n",
    "            \n",
    "            y = y_rand\n",
    "            x = x_rand\n",
    "            E = E_rand\n",
    "            \n",
    "        else:\n",
    "            \n",
    "            prob : float = np.exp(-deltaE/T)\n",
    "            change_prob : float = np.random.uniform()\n",
    "\n",
    "            if change_prob <= prob:\n",
    "\n",
    "                y = y_rand\n",
    "                x = x_rand\n",
    "                E = E_rand\n",
    "\n",
    "        T = T_max/np.log(1 + i)\n",
    "\n",
    "        if T <= T_min: break\n",
    "\n",
    "    return [y, x]          "
   ]
  },
  {
   "cell_type": "code",
   "execution_count": 3,
   "id": "f0c9dc26-1104-4ab8-840b-f2c70b05372a",
   "metadata": {},
   "outputs": [
    {
     "name": "stdout",
     "output_type": "stream",
     "text": [
      "8.508123216679696 0.44817313481432297\n"
     ]
    }
   ],
   "source": [
    "hist = VEM(cover_signals[0])\n",
    "\n",
    "#initial_guess = np.unravel_index(np.argmax(hist, axis=None), hist.shape)\n",
    "\n",
    "row0, col0 = get_annealing_xy(hist)\n",
    "\n",
    "print(row0, col0)"
   ]
  },
  {
   "cell_type": "code",
   "execution_count": 4,
   "id": "a2f317a2-255e-4c5a-9161-f99ed0125e54",
   "metadata": {
    "scrolled": true
   },
   "outputs": [],
   "source": [
    "pdf = PdfPages(\"100_Showers_hat_reconstruction.pdf\")\n",
    "\n",
    "for signal in cover_signals:\n",
    "\n",
    "    sinal_copy = np.copy(signal)\n",
    "\n",
    "    sig = VEM(sinal_copy)\n",
    "\n",
    "    plt.imshow(signal, cmap='turbo')\n",
    "\n",
    "    y0, x0 = get_annealing_xy(sig)\n",
    "\n",
    "    plt.plot(x0, y0, 'mo')\n",
    "\n",
    "    pdf.savefig()\n",
    "    plt.close('all')\n",
    "\n",
    "pdf.close()"
   ]
  },
  {
   "cell_type": "code",
   "execution_count": null,
   "id": "124e398e-092e-4936-b369-72cf9ad374ff",
   "metadata": {
    "scrolled": true
   },
   "outputs": [],
   "source": [
    "start = time.time()\n",
    "\n",
    "for signal in cover_signals:\n",
    "    get_xy_fits(signal)\n",
    "\n",
    "end = time.time()\n",
    "\n",
    "(end-start)*1000"
   ]
  },
  {
   "cell_type": "code",
   "execution_count": null,
   "id": "35678587-1d62-4a6b-8634-796a788cc223",
   "metadata": {},
   "outputs": [],
   "source": []
  }
 ],
 "metadata": {
  "kernelspec": {
   "display_name": "Python 3 (ipykernel)",
   "language": "python",
   "name": "python3"
  },
  "language_info": {
   "codemirror_mode": {
    "name": "ipython",
    "version": 3
   },
   "file_extension": ".py",
   "mimetype": "text/x-python",
   "name": "python",
   "nbconvert_exporter": "python",
   "pygments_lexer": "ipython3",
   "version": "3.11.7"
  }
 },
 "nbformat": 4,
 "nbformat_minor": 5
}
