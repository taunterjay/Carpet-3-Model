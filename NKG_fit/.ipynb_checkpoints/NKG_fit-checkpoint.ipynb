{
 "cells": [
  {
   "cell_type": "code",
   "execution_count": 2,
   "id": "b15d1198-2b6a-44a4-9029-067b74bb6454",
   "metadata": {},
   "outputs": [],
   "source": [
    "import uproot\n",
    "import numpy as np\n",
    "import matplotlib.pyplot as plt\n",
    "import os\n",
    "import re\n",
    "import time\n",
    "import matplotlib\n",
    "import sys\n",
    "import pandas as pd\n",
    "\n",
    "sys.path.append('../')\n",
    "from carpet_reconstruction import GetCarpetSignal, VEM, get_rho, NKG, num_sort, get_xy_fits\n",
    "\n",
    "from matplotlib.backends.backend_pdf import PdfPages\n",
    "from skimage.feature import peak_local_max\n",
    "from scipy.optimize import minimize\n",
    "from scipy.optimize import curve_fit\n",
    "from scipy.special import gamma"
   ]
  },
  {
   "cell_type": "code",
   "execution_count": 2,
   "id": "68d204a1-a5d4-4331-8e51-3f608f58dd18",
   "metadata": {},
   "outputs": [],
   "source": [
    "matplotlib.use('pdf') #Чтобы не убить оперативку\n",
    "#plt.rcParams['figure.dpi'] = 400\n",
    "# plt.style.use('fivethirtyeight')"
   ]
  },
  {
   "cell_type": "code",
   "execution_count": 3,
   "id": "de6ece88-24ae-40b1-9653-1607c5360040",
   "metadata": {},
   "outputs": [],
   "source": [
    "path = '../Data/proton_data/'\n",
    "\n",
    "filenames = [path + filename for filename in os.listdir(path)]\n",
    "filenames.sort(key=num_sort)"
   ]
  },
  {
   "cell_type": "code",
   "execution_count": 4,
   "id": "40d710bc-cb5c-4089-8579-e67cd1907c77",
   "metadata": {},
   "outputs": [
    {
     "data": {
      "text/plain": [
       "['../Data/proton_data/output28.root']"
      ]
     },
     "execution_count": 4,
     "metadata": {},
     "output_type": "execute_result"
    }
   ],
   "source": [
    "high_energy_files = filenames[28:]\n",
    "high_energy_files"
   ]
  },
  {
   "cell_type": "code",
   "execution_count": 5,
   "id": "20592d66-48ae-4ad4-ab72-2d1831b5e9b5",
   "metadata": {},
   "outputs": [
    {
     "name": "stdout",
     "output_type": "stream",
     "text": [
      "../Data/proton_data/output28.root\n"
     ]
    },
    {
     "name": "stderr",
     "output_type": "stream",
     "text": [
      "C:\\Users\\taunt\\GitProjects\\Carpet-3-Model\\NKG_fit\\..\\carpet_reconstruction.py:247: RuntimeWarning: invalid value encountered in sqrt\n",
      "  nz : float = np.sqrt(1-nx**2-ny**2) # Иногда 1-nx**2-ny**2 оказывается меньше 0, что означает что в данном случае приближение плоского фронта не работает\n"
     ]
    },
    {
     "name": "stdout",
     "output_type": "stream",
     "text": [
      "fin\n"
     ]
    }
   ],
   "source": [
    "pdf = PdfPages(\"NKG_test.pdf\")\n",
    "\n",
    "fig, axs = plt.subplots(1, 2, figsize=(16, 9))\n",
    "\n",
    "for filename in high_energy_files:\n",
    "\n",
    "    print(filename)\n",
    "    \n",
    "    file = uproot.open(filename)\n",
    "\n",
    "    names = np.array(file.keys())\n",
    "    times = names[:len(names) // 3]\n",
    "    cover_hists = names[len(names) // 3::2]\n",
    "\n",
    "    cover_signals = np.zeros((len(cover_hists), 20, 20))\n",
    "\n",
    "    for i, hist in enumerate(cover_hists):\n",
    "        cov_hist = np.copy(np.flip(file[hist].values().T, 0))\n",
    "        cover_signals[i] = VEM(GetCarpetSignal(cov_hist))\n",
    "    \n",
    "    time_array = np.zeros((len(times), 4))\n",
    "    \n",
    "    for i, t in enumerate(times):\n",
    "        time_array[i] = file[t]['t_ns'].array(library='np')[1:5]\n",
    "\n",
    "    for i in range(len(cover_signals)):\n",
    "\n",
    "        sig = cover_signals[i]\n",
    "        times = time_array[i]\n",
    "\n",
    "        if ((np.all(times)) and (np.count_nonzero(sig) > 50)):\n",
    "\n",
    "            r, rho = get_rho(sig, times)\n",
    "            \n",
    "            axs[0].scatter(r, rho, label='Прямые вычисления')\n",
    "        \n",
    "            try:\n",
    "                popt, pcov = curve_fit(NKG, r, rho, bounds=([0.4, 10], [1.8, 10**8]))\n",
    "                axs[0].plot(r, NKG(r, *popt), '-ro', linewidth = 2, markersize=3, label='NKG fit: s=%5.3f, Ne=%5.3f' % tuple(popt))\n",
    "                axs[0].set_xlabel('r в плоскости ливня, м', fontsize=10)\n",
    "                axs[0].set_ylabel('ρ, ч/м$^2$', fontsize=10)\n",
    "        \n",
    "                axs[0].legend(fontsize=6)\n",
    "            except RuntimeError:\n",
    "                ...\n",
    "                # print('Unable to fit')\n",
    "            except TypeError:\n",
    "                ...\n",
    "                # print('Unable to fit again')\n",
    "            except ValueError:\n",
    "                ...\n",
    "                # print('Data empty')\n",
    "    \n",
    "            fig.suptitle(cover_hists[i], fontsize=10)\n",
    "    \n",
    "            axs[1].imshow(sig, cmap='turbo')\n",
    "\n",
    "            row0, col0 = get_xy_fits(sig)\n",
    "            plt.plot(col0, row0, 'mo')\n",
    "    \n",
    "            for j in range(sig.shape[0]):\n",
    "                for k in range(sig.shape[1]):\n",
    "                    text = axs[1].text(k, j, round(sig[j, k]), ha=\"center\", va=\"center\", color=\"w\", fontsize=5)\n",
    "            \n",
    "            axs[1].set_xticks([])\n",
    "            axs[1].set_yticks([])\n",
    "            \n",
    "            plt.tight_layout()\n",
    "        \n",
    "            pdf.savefig(fig)\n",
    "\n",
    "            for ax in axs:\n",
    "                ax.clear()            \n",
    "\n",
    "pdf.close()\n",
    "print('fin')"
   ]
  },
  {
   "cell_type": "code",
   "execution_count": null,
   "id": "0db0046c-7055-4a02-b53b-bdf846d1c55d",
   "metadata": {},
   "outputs": [],
   "source": []
  }
 ],
 "metadata": {
  "kernelspec": {
   "display_name": "Python 3 (ipykernel)",
   "language": "python",
   "name": "python3"
  },
  "language_info": {
   "codemirror_mode": {
    "name": "ipython",
    "version": 3
   },
   "file_extension": ".py",
   "mimetype": "text/x-python",
   "name": "python",
   "nbconvert_exporter": "python",
   "pygments_lexer": "ipython3",
   "version": "3.11.7"
  }
 },
 "nbformat": 4,
 "nbformat_minor": 5
}
